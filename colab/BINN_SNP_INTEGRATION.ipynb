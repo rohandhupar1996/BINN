{
 "cells": [
  {
   "cell_type": "code",
   "execution_count": 27,
   "id": "37cb88a8-6b24-4d5b-9e84-c76beff8f23e",
   "metadata": {},
   "outputs": [
    {
     "name": "stdout",
     "output_type": "stream",
     "text": [
      "Requirement already satisfied: binn in /opt/anaconda3/lib/python3.12/site-packages (0.1.1)\n",
      "Requirement already satisfied: numpy in /opt/anaconda3/lib/python3.12/site-packages (from binn) (1.26.4)\n",
      "Requirement already satisfied: networkx in /opt/anaconda3/lib/python3.12/site-packages (from binn) (3.3)\n",
      "Requirement already satisfied: pandas in /opt/anaconda3/lib/python3.12/site-packages (from binn) (2.2.2)\n",
      "Requirement already satisfied: torch in /opt/anaconda3/lib/python3.12/site-packages (from binn) (2.2.2)\n",
      "Requirement already satisfied: shap in /opt/anaconda3/lib/python3.12/site-packages (from binn) (0.48.0)\n",
      "Requirement already satisfied: matplotlib in /opt/anaconda3/lib/python3.12/site-packages (from binn) (3.9.2)\n",
      "Requirement already satisfied: contourpy>=1.0.1 in /opt/anaconda3/lib/python3.12/site-packages (from matplotlib->binn) (1.2.0)\n",
      "Requirement already satisfied: cycler>=0.10 in /opt/anaconda3/lib/python3.12/site-packages (from matplotlib->binn) (0.11.0)\n",
      "Requirement already satisfied: fonttools>=4.22.0 in /opt/anaconda3/lib/python3.12/site-packages (from matplotlib->binn) (4.51.0)\n",
      "Requirement already satisfied: kiwisolver>=1.3.1 in /opt/anaconda3/lib/python3.12/site-packages (from matplotlib->binn) (1.4.4)\n",
      "Requirement already satisfied: packaging>=20.0 in /opt/anaconda3/lib/python3.12/site-packages (from matplotlib->binn) (24.1)\n",
      "Requirement already satisfied: pillow>=8 in /opt/anaconda3/lib/python3.12/site-packages (from matplotlib->binn) (10.4.0)\n",
      "Requirement already satisfied: pyparsing>=2.3.1 in /opt/anaconda3/lib/python3.12/site-packages (from matplotlib->binn) (3.1.2)\n",
      "Requirement already satisfied: python-dateutil>=2.7 in /opt/anaconda3/lib/python3.12/site-packages (from matplotlib->binn) (2.9.0.post0)\n",
      "Requirement already satisfied: pytz>=2020.1 in /opt/anaconda3/lib/python3.12/site-packages (from pandas->binn) (2024.1)\n",
      "Requirement already satisfied: tzdata>=2022.7 in /opt/anaconda3/lib/python3.12/site-packages (from pandas->binn) (2023.3)\n",
      "Requirement already satisfied: scipy in /opt/anaconda3/lib/python3.12/site-packages (from shap->binn) (1.13.1)\n",
      "Requirement already satisfied: scikit-learn in /opt/anaconda3/lib/python3.12/site-packages (from shap->binn) (1.5.1)\n",
      "Requirement already satisfied: tqdm>=4.27.0 in /opt/anaconda3/lib/python3.12/site-packages (from shap->binn) (4.66.5)\n",
      "Requirement already satisfied: slicer==0.0.8 in /opt/anaconda3/lib/python3.12/site-packages (from shap->binn) (0.0.8)\n",
      "Requirement already satisfied: numba>=0.54 in /opt/anaconda3/lib/python3.12/site-packages (from shap->binn) (0.60.0)\n",
      "Requirement already satisfied: cloudpickle in /opt/anaconda3/lib/python3.12/site-packages (from shap->binn) (3.0.0)\n",
      "Requirement already satisfied: typing-extensions in /opt/anaconda3/lib/python3.12/site-packages (from shap->binn) (4.11.0)\n",
      "Requirement already satisfied: filelock in /opt/anaconda3/lib/python3.12/site-packages (from torch->binn) (3.13.1)\n",
      "Requirement already satisfied: sympy in /opt/anaconda3/lib/python3.12/site-packages (from torch->binn) (1.13.2)\n",
      "Requirement already satisfied: jinja2 in /opt/anaconda3/lib/python3.12/site-packages (from torch->binn) (3.1.4)\n",
      "Requirement already satisfied: fsspec in /opt/anaconda3/lib/python3.12/site-packages (from torch->binn) (2024.6.1)\n",
      "Requirement already satisfied: llvmlite<0.44,>=0.43.0dev0 in /opt/anaconda3/lib/python3.12/site-packages (from numba>=0.54->shap->binn) (0.43.0)\n",
      "Requirement already satisfied: six>=1.5 in /opt/anaconda3/lib/python3.12/site-packages (from python-dateutil>=2.7->matplotlib->binn) (1.16.0)\n",
      "Requirement already satisfied: MarkupSafe>=2.0 in /opt/anaconda3/lib/python3.12/site-packages (from jinja2->torch->binn) (2.1.3)\n",
      "Requirement already satisfied: joblib>=1.2.0 in /opt/anaconda3/lib/python3.12/site-packages (from scikit-learn->shap->binn) (1.4.2)\n",
      "Requirement already satisfied: threadpoolctl>=3.1.0 in /opt/anaconda3/lib/python3.12/site-packages (from scikit-learn->shap->binn) (3.5.0)\n",
      "Requirement already satisfied: mpmath<1.4,>=1.1.0 in /opt/anaconda3/lib/python3.12/site-packages (from sympy->torch->binn) (1.3.0)\n"
     ]
    }
   ],
   "source": [
    "! pip install binn"
   ]
  },
  {
   "cell_type": "code",
   "execution_count": 43,
   "id": "30a0d0fa-da2f-4c67-ada2-75259fb6bad0",
   "metadata": {},
   "outputs": [
    {
     "name": "stdout",
     "output_type": "stream",
     "text": [
      "=== GENOTYPE DATA ===\n",
      "Matrix shape: (50, 100)\n",
      "Data type: int64\n",
      "Sample values: [2 0 1 1 1]\n",
      "\n",
      "=== SPARSE CONNECTIVITY MATRIX ===\n",
      "Shape: (100, 122)\n",
      "Connections: 130\n",
      "Density: 0.0107\n",
      "\n",
      "=== SNP INDEX ===\n",
      "Entries: 100\n",
      "Sample: [('rs114757189', 0), ('rs9439506', 1), ('rs112434103', 2)]\n",
      "\n",
      "=== GENE INDEX ===\n",
      "Entries: 122\n",
      "Sample: [('SDF4', 0), ('LINC02782', 1), ('ENSG00000284616', 2)]\n"
     ]
    }
   ],
   "source": [
    "import numpy as np\n",
    "import pandas as pd\n",
    "import json\n",
    "import scipy.sparse as sp\n",
    "\n",
    "# Step 1: Load all data files\n",
    "print(\"=== GENOTYPE DATA ===\")\n",
    "genotype_data = np.load('dummy_genotype_matrix.npz', allow_pickle=True)\n",
    "genotype_matrix = genotype_data['matrix']\n",
    "snps = genotype_data['snps']\n",
    "samples = genotype_data['samples']\n",
    "print(f\"Matrix shape: {genotype_matrix.shape}\")\n",
    "print(f\"Data type: {genotype_matrix.dtype}\")\n",
    "print(f\"Sample values: {genotype_matrix[0, :5]}\")\n",
    "\n",
    "print(\"\\n=== SPARSE CONNECTIVITY MATRIX ===\")\n",
    "sparse_data = np.load('sparse_matrix.npz', allow_pickle=True)\n",
    "snp_to_gene_matrix = sp.csr_matrix(\n",
    "   (sparse_data['data'], sparse_data['indices'], sparse_data['indptr']),\n",
    "   shape=tuple(sparse_data['shape'])\n",
    ")\n",
    "print(f\"Shape: {snp_to_gene_matrix.shape}\")\n",
    "print(f\"Connections: {snp_to_gene_matrix.nnz}\")\n",
    "print(f\"Density: {snp_to_gene_matrix.nnz / (snp_to_gene_matrix.shape[0] * snp_to_gene_matrix.shape[1]):.4f}\")\n",
    "\n",
    "print(\"\\n=== SNP INDEX ===\")\n",
    "with open('snp_index.json', 'r') as f:\n",
    "   snp_index = json.load(f)\n",
    "print(f\"Entries: {len(snp_index)}\")\n",
    "print(f\"Sample: {list(snp_index.items())[:3]}\")\n",
    "\n",
    "print(\"\\n=== GENE INDEX ===\")\n",
    "with open('gene_index.json', 'r') as f:\n",
    "   gene_index = json.load(f)\n",
    "print(f\"Entries: {len(gene_index)}\")\n",
    "print(f\"Sample: {list(gene_index.items())[:3]}\")"
   ]
  },
  {
   "cell_type": "code",
   "execution_count": 44,
   "id": "b540e1e7-e7c4-494a-b44b-831dbc1cd620",
   "metadata": {},
   "outputs": [
    {
     "name": "stdout",
     "output_type": "stream",
     "text": [
      "Data matrix shape: (50, 103)\n",
      "First 3 genes: ['SDF4', 'LINC02782', 'SPSB1']\n",
      "Sample data:\n",
      "          SDF4  LINC02782  SPSB1\n",
      "Sample_0     2          0      1\n",
      "Sample_1     2          0      2\n",
      "Sample_2     2          1      2\n"
     ]
    }
   ],
   "source": [
    "# Step 2: Create BINN-compatible data matrix\n",
    "samples_fixed = samples[:genotype_matrix.shape[0]]\n",
    "connectivity_dense = snp_to_gene_matrix.toarray()\n",
    "gene_data = genotype_matrix @ connectivity_dense\n",
    "\n",
    "# Filter valid genes (remove ENSG IDs)\n",
    "valid_genes = {gene: idx for gene, idx in gene_index.items() \n",
    "               if not gene.startswith('ENSG') and len(gene) <= 15}\n",
    "valid_indices = list(valid_genes.values())\n",
    "valid_gene_names = list(valid_genes.keys())\n",
    "\n",
    "# Create BINN data matrix (genes as features, samples as rows)\n",
    "gene_data_filtered = gene_data[:, valid_indices]\n",
    "data_matrix = pd.DataFrame(\n",
    "    gene_data_filtered,\n",
    "    index=samples_fixed,\n",
    "    columns=valid_gene_names\n",
    ")\n",
    "\n",
    "print(f\"Data matrix shape: {data_matrix.shape}\")\n",
    "print(f\"First 3 genes: {valid_gene_names[:3]}\")\n",
    "print(f\"Sample data:\\n{data_matrix.iloc[:3, :3]}\")"
   ]
  },
  {
   "cell_type": "code",
   "execution_count": 45,
   "id": "9e3af760-fc2f-4ad2-abc9-cc41564c6a3e",
   "metadata": {},
   "outputs": [
    {
     "name": "stdout",
     "output_type": "stream",
     "text": [
      "Design matrix shape: (50, 3)\n",
      "Sample design matrix:\n",
      "     sample  target group\n",
      "0  Sample_0       1  high\n",
      "1  Sample_1       0   low\n",
      "2  Sample_2       1  high\n",
      "3  Sample_3       0   low\n",
      "4  Sample_4       1  high\n",
      "Target distribution: 1    29\n",
      "0    21\n",
      "Name: count, dtype: int64\n"
     ]
    }
   ],
   "source": [
    "# Step 3: Create design matrix\n",
    "# Need target labels - create dummy ones for now\n",
    "n_samples = len(samples_fixed)\n",
    "target_labels = np.random.randint(0, 2, n_samples)  # Binary classification\n",
    "\n",
    "design_matrix = pd.DataFrame({\n",
    "   'sample': samples_fixed,\n",
    "   'target': target_labels,\n",
    "   'group': ['high' if t == 1 else 'low' for t in target_labels]\n",
    "})\n",
    "\n",
    "print(f\"Design matrix shape: {design_matrix.shape}\")\n",
    "print(f\"Sample design matrix:\\n{design_matrix.head()}\")\n",
    "print(f\"Target distribution: {pd.Series(target_labels).value_counts()}\")"
   ]
  },
  {
   "cell_type": "code",
   "execution_count": 46,
   "id": "7d97c80d-249b-486b-8ac1-acab0e6f097a",
   "metadata": {},
   "outputs": [
    {
     "name": "stdout",
     "output_type": "stream",
     "text": [
      "First 3 genes: ['SDF4', 'LINC02782', 'SPSB1', 'CASZ1', 'PLOD1', 'KAZN', 'PADI6', 'MIR4418', 'GRHL3', 'RSPO1', 'AIRIM', 'MTF1', 'FOXJ3', 'ZSWIM5', 'LINC01738', 'AGBL4', 'BEND5', 'SCP2', 'CDCP2', 'USP24', 'FGGY', 'LINC01739', 'RNU7-62P', 'CACHD1', 'PDE4B', 'DIRAS3', 'NEGR1', 'MSH4', 'LINC01140', 'PKN2-AS1', 'CDC7', 'TGFBR3', 'ABCD3', 'DPYD-AS1', 'RTCA', 'THAP3P1', 'NTNG1', 'VAV3', 'PSRC1', 'GNAI3', 'DENND2D', 'WNT2B', 'SYT6', 'TBX15', 'RNU1-59P', 'LINC00624', 'OTUD7B', 'CRCT1', 'LCE3E', 'S100A7A', 'S100A7', 'NUP210L', 'THBS3-AS1', 'MEF2D', 'PEAR1', 'RP11-85G21.2', 'FCRL5', 'ATP1A4', 'ITLN2', 'PCP4L1', 'NOS1AP', 'SH2D1B', 'UHMK1', 'SELP', 'SELL', 'MYOCOS', 'TNFSF4', 'RALGPS2', 'AL359853.1', 'CACNA1E', 'RNU6-41P', 'LAMC1', 'NR5A2', 'KIF14', 'NAV1', 'SYT2', 'CYB5R1', 'FMOD', 'PRELP', 'LINC01735', 'LINC02769', 'SERTAD4', 'HHAT', 'LPGAT1', 'FLVCR1', 'PROX1', 'KCNK2', 'AC096643.1', 'SLC30A10', 'DNAH14', 'ITPKB-IT1', 'RHOU', 'LINC02815', 'ARID4B', 'EDARADD', 'LGALS8', 'RYR2', 'CHRM3', 'GREM2', 'PLD5', 'AL445675.1', 'DESI2', 'SMYD3']\n"
     ]
    }
   ],
   "source": [
    "print(f\"First 3 genes: {valid_gene_names}\")"
   ]
  },
  {
   "cell_type": "code",
   "execution_count": 40,
   "id": "c991b9d2-af69-47f6-934f-811a476a61a2",
   "metadata": {},
   "outputs": [
    {
     "name": "stdout",
     "output_type": "stream",
     "text": [
      "Real mapping: 109 SNP→Gene connections\n",
      "Functional pathways: 103 Gene→Pathway connections\n"
     ]
    }
   ],
   "source": [
    "# Step 4: Create mapping from your SNP→Gene connectivity\n",
    "mapping_data = []\n",
    "coo = snp_to_gene_matrix.tocoo()\n",
    "\n",
    "for i, j in zip(coo.row, coo.col):\n",
    "    if i < len(snp_index) and j < len(gene_index):\n",
    "        snp_id = list(snp_index.keys())[i]\n",
    "        gene_id = list(gene_index.keys())[j]\n",
    "        if gene_id in valid_gene_names:\n",
    "            mapping_data.append([\n",
    "                snp_id, gene_id, \n",
    "                f\"https://snp.org/{snp_id}\", \n",
    "                f\"{snp_id} maps to {gene_id}\",\n",
    "                \"direct\", \"Homo sapiens\"\n",
    "            ])\n",
    "\n",
    "mapping = pd.DataFrame(mapping_data, \n",
    "    columns=[\"input\", \"translation\", \"url\", \"name\", \"x\", \"species\"])\n",
    "\n",
    "# Step 5: Create pathways - genes connecting to meta-pathways\n",
    "pathways_data = []\n",
    "for gene in valid_gene_names:\n",
    "    # Group genes by function (simple heuristic)\n",
    "    if any(x in gene for x in ['BRCA', 'ATM', 'TP53']):\n",
    "        pathways_data.append([gene, \"DNA_REPAIR_PATHWAY\"])\n",
    "    elif any(x in gene for x in ['CDK', 'CCND', 'RB1']):\n",
    "        pathways_data.append([gene, \"CELL_CYCLE_PATHWAY\"])\n",
    "    else:\n",
    "        pathways_data.append([gene, \"GENERAL_PATHWAY\"])\n",
    "\n",
    "pathways = pd.DataFrame(pathways_data, columns=[\"source\", \"target\"])\n",
    "\n",
    "print(f\"Real mapping: {len(mapping)} SNP→Gene connections\")\n",
    "print(f\"Functional pathways: {len(pathways)} Gene→Pathway connections\")"
   ]
  },
  {
   "cell_type": "code",
   "execution_count": 47,
   "id": "5291ff7c-8c4d-448a-a851-223407291b3e",
   "metadata": {},
   "outputs": [
    {
     "name": "stdout",
     "output_type": "stream",
     "text": [
      "\n",
      "[INFO] BINN is on device: cpu\n"
     ]
    }
   ],
   "source": [
    "# Fix data_matrix - add Protein column\n",
    "data_matrix['Protein'] = valid_gene_names[0]  # Use first gene as identifier\n",
    "\n",
    "# Test again\n",
    "binn = BINN(\n",
    "    data_matrix=data_matrix,\n",
    "    mapping=mapping,\n",
    "    pathways=pathways,\n",
    "    n_layers=3,\n",
    "    dropout=0.2\n",
    ")"
   ]
  },
  {
   "cell_type": "code",
   "execution_count": 48,
   "id": "915be756-175b-44de-9a8c-76022b4c06ec",
   "metadata": {},
   "outputs": [
    {
     "name": "stdout",
     "output_type": "stream",
     "text": [
      "=== MAPPING FORMAT ===\n",
      "Columns: ['input', 'translation', 'url', 'name', 'x', 'species']\n",
      "Sample:\n",
      "       input translation                         url                name  \\\n",
      "0       SDF4        SDF4       https://gene.org/SDF4       SDF4 function   \n",
      "1  LINC02782   LINC02782  https://gene.org/LINC02782  LINC02782 function   \n",
      "\n",
      "        x       species  \n",
      "0  direct  Homo sapiens  \n",
      "1  direct  Homo sapiens  \n",
      "\n",
      "=== PATHWAYS FORMAT ===\n",
      "Columns: ['source', 'target']\n",
      "Sample:\n",
      "      source           target\n",
      "0       SDF4  GENERAL_PATHWAY\n",
      "1  LINC02782  GENERAL_PATHWAY\n",
      "\n",
      "=== DATA MATRIX ===\n",
      "Columns: ['SDF4', 'LINC02782', 'SPSB1', 'CASZ1', 'PLOD1']\n",
      "Has Protein col: True\n",
      "\n",
      "Genes in mapping: 103\n",
      "Genes in data: 103\n",
      "Overlap: 103\n"
     ]
    }
   ],
   "source": [
    "# Debug: Print exact formats\n",
    "print(\"=== MAPPING FORMAT ===\")\n",
    "print(f\"Columns: {mapping.columns.tolist()}\")\n",
    "print(f\"Sample:\\n{mapping.head(2)}\")\n",
    "\n",
    "print(\"\\n=== PATHWAYS FORMAT ===\")\n",
    "print(f\"Columns: {pathways.columns.tolist()}\")\n",
    "print(f\"Sample:\\n{pathways.head(2)}\")\n",
    "\n",
    "print(\"\\n=== DATA MATRIX ===\")\n",
    "print(f\"Columns: {data_matrix.columns[:5].tolist()}\")\n",
    "print(f\"Has Protein col: {'Protein' in data_matrix.columns}\")\n",
    "\n",
    "# Check if your genes appear in mapping\n",
    "genes_in_mapping = set(mapping['translation'].unique())\n",
    "genes_in_data = set(data_matrix.columns) - {'Protein'}\n",
    "print(f\"\\nGenes in mapping: {len(genes_in_mapping)}\")\n",
    "print(f\"Genes in data: {len(genes_in_data)}\")\n",
    "print(f\"Overlap: {len(genes_in_mapping & genes_in_data)}\")"
   ]
  },
  {
   "cell_type": "code",
   "execution_count": 49,
   "id": "6bdfbfc6-da82-474a-bdce-2f21f25e7b31",
   "metadata": {},
   "outputs": [
    {
     "name": "stdout",
     "output_type": "stream",
     "text": [
      "Fixed mapping sample:\n",
      "       input translation                         url                name  \\\n",
      "0       SDF4        SDF4       https://gene.org/SDF4       SDF4 function   \n",
      "1  LINC02782   LINC02782  https://gene.org/LINC02782  LINC02782 function   \n",
      "\n",
      "        x       species  \n",
      "0  direct  Homo sapiens  \n",
      "1  direct  Homo sapiens  \n",
      "\n",
      "[INFO] BINN is on device: cpu\n"
     ]
    }
   ],
   "source": [
    "# Fix: Map genes to genes (not SNPs to genes)\n",
    "mapping_data = []\n",
    "for gene in valid_gene_names:\n",
    "    mapping_data.append([\n",
    "        gene, gene,  # input=gene, translation=gene\n",
    "        f\"https://gene.org/{gene}\",\n",
    "        f\"{gene} function\",\n",
    "        \"direct\", \"Homo sapiens\"\n",
    "    ])\n",
    "\n",
    "mapping = pd.DataFrame(mapping_data, \n",
    "    columns=[\"input\", \"translation\", \"url\", \"name\", \"x\", \"species\"])\n",
    "\n",
    "print(f\"Fixed mapping sample:\\n{mapping.head(2)}\")\n",
    "\n",
    "# Test again\n",
    "binn = BINN(\n",
    "    data_matrix=data_matrix,\n",
    "    mapping=mapping,\n",
    "    pathways=pathways,\n",
    "    n_layers=3,\n",
    "    dropout=0.2\n",
    ")"
   ]
  },
  {
   "cell_type": "code",
   "execution_count": 50,
   "id": "61d91c67-324b-4743-a1dc-9047764c148b",
   "metadata": {},
   "outputs": [
    {
     "name": "stdout",
     "output_type": "stream",
     "text": [
      "=== MAPPING TRANSLATION ===\n",
      "Data matrix columns (first 5):\n",
      "['SDF4', 'LINC02782', 'SPSB1', 'CASZ1', 'PLOD1']\n",
      "\n",
      "Mapping input→translation (first 5):\n",
      "SDF4 → SDF4\n",
      "LINC02782 → LINC02782\n",
      "SPSB1 → SPSB1\n",
      "CASZ1 → CASZ1\n",
      "PLOD1 → PLOD1\n",
      "\n",
      "Check alignment:\n",
      "Data genes: 103\n",
      "Mapping inputs: 103\n",
      "Perfect match: True\n"
     ]
    }
   ],
   "source": [
    "# Code to visualize the mapping translation\n",
    "print(\"=== MAPPING TRANSLATION ===\")\n",
    "print(\"Data matrix columns (first 5):\")\n",
    "print(data_matrix.columns[:5].tolist())\n",
    "\n",
    "print(\"\\nMapping input→translation (first 5):\")\n",
    "for i, row in mapping.head(5).iterrows():\n",
    "   print(f\"{row['input']} → {row['translation']}\")\n",
    "\n",
    "print(\"\\nCheck alignment:\")\n",
    "data_genes = set(data_matrix.columns) - {'Protein'}\n",
    "mapping_inputs = set(mapping['input'])\n",
    "print(f\"Data genes: {len(data_genes)}\")\n",
    "print(f\"Mapping inputs: {len(mapping_inputs)}\")\n",
    "print(f\"Perfect match: {data_genes == mapping_inputs}\")\n",
    "\n",
    "# Show difference if any\n",
    "missing = data_genes - mapping_inputs\n",
    "extra = mapping_inputs - data_genes\n",
    "if missing: print(f\"Missing in mapping: {missing}\")\n",
    "if extra: print(f\"Extra in mapping: {extra}\")"
   ]
  },
  {
   "cell_type": "code",
   "execution_count": 51,
   "id": "aa1f5c12-ab5c-4b04-903e-9f369dffdd21",
   "metadata": {},
   "outputs": [
    {
     "name": "stdout",
     "output_type": "stream",
     "text": [
      "=== YOUR CUSTOM APPROACH ===\n",
      "Mapping (Gene→Gene):\n",
      "       input translation\n",
      "0       SDF4        SDF4\n",
      "1  LINC02782   LINC02782\n",
      "2      SPSB1       SPSB1\n",
      "\n",
      "Pathways (Gene→Custom_Pathway):\n",
      "      source           target\n",
      "0       SDF4  GENERAL_PATHWAY\n",
      "1  LINC02782  GENERAL_PATHWAY\n",
      "2      SPSB1  GENERAL_PATHWAY\n",
      "\n",
      "=== REACTOME APPROACH WOULD BE ===\n",
      "Mapping (Protein→Reactome_ID):\n",
      "       input  translation\n",
      "0       SDF4  R-HSA-12345\n",
      "1  LINC02782  R-HSA-67890\n",
      "\n",
      "Pathways (Reactome_ID→Reactome_ID hierarchy):\n",
      "        source     target\n",
      "0  R-HSA-12345  R-HSA-999\n",
      "1  R-HSA-67890  R-HSA-999\n"
     ]
    }
   ],
   "source": [
    "# Compare your approach vs Reactome approach\n",
    "print(\"=== YOUR CUSTOM APPROACH ===\")\n",
    "print(\"Mapping (Gene→Gene):\")\n",
    "print(mapping.head(3)[['input', 'translation']])\n",
    "\n",
    "print(\"\\nPathways (Gene→Custom_Pathway):\")\n",
    "print(pathways.head(3))\n",
    "\n",
    "print(\"\\n=== REACTOME APPROACH WOULD BE ===\")\n",
    "print(\"Mapping (Protein→Reactome_ID):\")\n",
    "reactome_example = pd.DataFrame({\n",
    "   'input': ['SDF4', 'LINC02782'], \n",
    "   'translation': ['R-HSA-12345', 'R-HSA-67890']\n",
    "})\n",
    "print(reactome_example)\n",
    "\n",
    "print(\"\\nPathways (Reactome_ID→Reactome_ID hierarchy):\")\n",
    "reactome_pathways = pd.DataFrame({\n",
    "   'source': ['R-HSA-12345', 'R-HSA-67890'],\n",
    "   'target': ['R-HSA-999', 'R-HSA-999']\n",
    "})\n",
    "print(reactome_pathways)"
   ]
  },
  {
   "cell_type": "code",
   "execution_count": 52,
   "id": "d9a26ac0-efc6-4331-af79-ef06eaf7e888",
   "metadata": {},
   "outputs": [
    {
     "data": {
      "text/plain": [
       "Sequential(\n",
       "  (Layer_0): Linear(in_features=1, out_features=1, bias=True)\n",
       "  (BatchNorm_0): BatchNorm1d(1, eps=1e-05, momentum=0.1, affine=True, track_running_stats=True)\n",
       "  (Dropout_0): Dropout(p=0.2, inplace=False)\n",
       "  (Tanh_0): Tanh()\n",
       "  (Layer_1): Linear(in_features=1, out_features=1, bias=True)\n",
       "  (BatchNorm_1): BatchNorm1d(1, eps=1e-05, momentum=0.1, affine=True, track_running_stats=True)\n",
       "  (Dropout_1): Dropout(p=0.2, inplace=False)\n",
       "  (Tanh_1): Tanh()\n",
       "  (Layer_2): Linear(in_features=1, out_features=1, bias=True)\n",
       "  (BatchNorm_2): BatchNorm1d(1, eps=1e-05, momentum=0.1, affine=True, track_running_stats=True)\n",
       "  (Dropout_2): Dropout(p=0.2, inplace=False)\n",
       "  (Tanh_2): Tanh()\n",
       "  (Output): Linear(in_features=1, out_features=2, bias=True)\n",
       ")"
      ]
     },
     "execution_count": 52,
     "metadata": {},
     "output_type": "execute_result"
    }
   ],
   "source": [
    "binn.layers"
   ]
  },
  {
   "cell_type": "code",
   "execution_count": 53,
   "id": "e8031d53-4fe1-4ce2-8c9a-b5729af18b61",
   "metadata": {},
   "outputs": [
    {
     "data": {
      "text/plain": [
       "'SDF4'"
      ]
     },
     "execution_count": 53,
     "metadata": {},
     "output_type": "execute_result"
    }
   ],
   "source": [
    "binn.inputs[0]"
   ]
  },
  {
   "cell_type": "code",
   "execution_count": 54,
   "id": "fdcea60b-9fe6-4117-99e5-629e767e8d6f",
   "metadata": {},
   "outputs": [
    {
     "data": {
      "text/plain": [
       "'SDF4'"
      ]
     },
     "execution_count": 54,
     "metadata": {},
     "output_type": "execute_result"
    }
   ],
   "source": [
    "layers = binn.layer_names\n",
    "layers[0][0]"
   ]
  },
  {
   "cell_type": "code",
   "execution_count": 57,
   "id": "a2120c75-2621-4049-a027-7197c288e7db",
   "metadata": {},
   "outputs": [],
   "source": [
    "from binn import BINN, BINNDataLoader, BINNTrainer\n",
    "import pandas as pd"
   ]
  },
  {
   "cell_type": "code",
   "execution_count": 58,
   "id": "aed33c22-824b-49a2-9033-506cb019360f",
   "metadata": {},
   "outputs": [
    {
     "name": "stdout",
     "output_type": "stream",
     "text": [
      "Mapping group labels: {'high': 0, 'low': 1}\n",
      "[Epoch 1/50] Train Loss: 0.7127, Train Accuracy: 0.5312\n",
      "[Epoch 1/50] Val Loss: 0.6958, Val Accuracy: 0.3000\n",
      "[Epoch 2/50] Train Loss: 0.6719, Train Accuracy: 0.5000\n",
      "[Epoch 2/50] Val Loss: 0.6969, Val Accuracy: 0.1000\n",
      "[Epoch 3/50] Train Loss: 0.7010, Train Accuracy: 0.6094\n",
      "[Epoch 3/50] Val Loss: 0.6978, Val Accuracy: 0.1000\n",
      "[Epoch 4/50] Train Loss: 0.7220, Train Accuracy: 0.5625\n",
      "[Epoch 4/50] Val Loss: 0.6990, Val Accuracy: 0.3000\n",
      "[Epoch 5/50] Train Loss: 0.6712, Train Accuracy: 0.6562\n",
      "[Epoch 5/50] Val Loss: 0.7008, Val Accuracy: 0.3000\n",
      "[Epoch 6/50] Train Loss: 0.7455, Train Accuracy: 0.4844\n",
      "[Epoch 6/50] Val Loss: 0.7028, Val Accuracy: 0.3000\n",
      "[Epoch 7/50] Train Loss: 0.6911, Train Accuracy: 0.6562\n",
      "[Epoch 7/50] Val Loss: 0.7049, Val Accuracy: 0.3000\n",
      "[Epoch 8/50] Train Loss: 0.7237, Train Accuracy: 0.5469\n",
      "[Epoch 8/50] Val Loss: 0.7084, Val Accuracy: 0.3000\n",
      "[Epoch 9/50] Train Loss: 0.7152, Train Accuracy: 0.5156\n",
      "[Epoch 9/50] Val Loss: 0.7118, Val Accuracy: 0.3000\n",
      "[Epoch 10/50] Train Loss: 0.6980, Train Accuracy: 0.5312\n",
      "[Epoch 10/50] Val Loss: 0.7164, Val Accuracy: 0.3000\n",
      "[Epoch 11/50] Train Loss: 0.6688, Train Accuracy: 0.6094\n",
      "[Epoch 11/50] Val Loss: 0.7215, Val Accuracy: 0.3000\n",
      "[Epoch 12/50] Train Loss: 0.7374, Train Accuracy: 0.4531\n",
      "[Epoch 12/50] Val Loss: 0.7279, Val Accuracy: 0.3000\n",
      "[Epoch 13/50] Train Loss: 0.6820, Train Accuracy: 0.5312\n",
      "[Epoch 13/50] Val Loss: 0.7339, Val Accuracy: 0.3000\n",
      "[Epoch 14/50] Train Loss: 0.7052, Train Accuracy: 0.5469\n",
      "[Epoch 14/50] Val Loss: 0.7400, Val Accuracy: 0.3000\n",
      "[Epoch 15/50] Train Loss: 0.6975, Train Accuracy: 0.5156\n",
      "[Epoch 15/50] Val Loss: 0.7495, Val Accuracy: 0.3000\n",
      "[Epoch 16/50] Train Loss: 0.7538, Train Accuracy: 0.4531\n",
      "[Epoch 16/50] Val Loss: 0.7584, Val Accuracy: 0.3000\n",
      "[Epoch 17/50] Train Loss: 0.6646, Train Accuracy: 0.5625\n",
      "[Epoch 17/50] Val Loss: 0.7669, Val Accuracy: 0.3000\n",
      "[Epoch 18/50] Train Loss: 0.6638, Train Accuracy: 0.5625\n",
      "[Epoch 18/50] Val Loss: 0.7752, Val Accuracy: 0.3000\n",
      "[Epoch 19/50] Train Loss: 0.6910, Train Accuracy: 0.6250\n",
      "[Epoch 19/50] Val Loss: 0.7838, Val Accuracy: 0.3000\n",
      "[Epoch 20/50] Train Loss: 0.6831, Train Accuracy: 0.5000\n",
      "[Epoch 20/50] Val Loss: 0.7935, Val Accuracy: 0.3000\n",
      "[Epoch 21/50] Train Loss: 0.6744, Train Accuracy: 0.5469\n",
      "[Epoch 21/50] Val Loss: 0.8002, Val Accuracy: 0.3000\n",
      "[Epoch 22/50] Train Loss: 0.7454, Train Accuracy: 0.5000\n",
      "[Epoch 22/50] Val Loss: 0.8090, Val Accuracy: 0.3000\n",
      "[Epoch 23/50] Train Loss: 0.6555, Train Accuracy: 0.6562\n",
      "[Epoch 23/50] Val Loss: 0.8168, Val Accuracy: 0.3000\n",
      "[Epoch 24/50] Train Loss: 0.7315, Train Accuracy: 0.4844\n",
      "[Epoch 24/50] Val Loss: 0.8191, Val Accuracy: 0.3000\n",
      "[Epoch 25/50] Train Loss: 0.6965, Train Accuracy: 0.5000\n",
      "[Epoch 25/50] Val Loss: 0.8256, Val Accuracy: 0.3000\n",
      "[Epoch 26/50] Train Loss: 0.7201, Train Accuracy: 0.5312\n",
      "[Epoch 26/50] Val Loss: 0.8308, Val Accuracy: 0.3000\n",
      "[Epoch 27/50] Train Loss: 0.7036, Train Accuracy: 0.5312\n",
      "[Epoch 27/50] Val Loss: 0.8355, Val Accuracy: 0.3000\n",
      "[Epoch 28/50] Train Loss: 0.6692, Train Accuracy: 0.6562\n",
      "[Epoch 28/50] Val Loss: 0.8370, Val Accuracy: 0.3000\n",
      "[Epoch 29/50] Train Loss: 0.7230, Train Accuracy: 0.5625\n",
      "[Epoch 29/50] Val Loss: 0.8404, Val Accuracy: 0.3000\n",
      "[Epoch 30/50] Train Loss: 0.7318, Train Accuracy: 0.5625\n",
      "[Epoch 30/50] Val Loss: 0.8404, Val Accuracy: 0.3000\n",
      "[Epoch 31/50] Train Loss: 0.7223, Train Accuracy: 0.3906\n",
      "[Epoch 31/50] Val Loss: 0.8439, Val Accuracy: 0.3000\n",
      "[Epoch 32/50] Train Loss: 0.7202, Train Accuracy: 0.5469\n",
      "[Epoch 32/50] Val Loss: 0.8398, Val Accuracy: 0.3000\n",
      "[Epoch 33/50] Train Loss: 0.7475, Train Accuracy: 0.4062\n",
      "[Epoch 33/50] Val Loss: 0.8465, Val Accuracy: 0.3000\n",
      "[Epoch 34/50] Train Loss: 0.7132, Train Accuracy: 0.5000\n",
      "[Epoch 34/50] Val Loss: 0.8467, Val Accuracy: 0.3000\n",
      "[Epoch 35/50] Train Loss: 0.6940, Train Accuracy: 0.6406\n",
      "[Epoch 35/50] Val Loss: 0.8419, Val Accuracy: 0.3000\n",
      "[Epoch 36/50] Train Loss: 0.7112, Train Accuracy: 0.5938\n",
      "[Epoch 36/50] Val Loss: 0.8416, Val Accuracy: 0.3000\n",
      "[Epoch 37/50] Train Loss: 0.6850, Train Accuracy: 0.6562\n",
      "[Epoch 37/50] Val Loss: 0.8396, Val Accuracy: 0.3000\n",
      "[Epoch 38/50] Train Loss: 0.7587, Train Accuracy: 0.3750\n",
      "[Epoch 38/50] Val Loss: 0.8444, Val Accuracy: 0.3000\n",
      "[Epoch 39/50] Train Loss: 0.6977, Train Accuracy: 0.5156\n",
      "[Epoch 39/50] Val Loss: 0.8409, Val Accuracy: 0.3000\n",
      "[Epoch 40/50] Train Loss: 0.6782, Train Accuracy: 0.6562\n",
      "[Epoch 40/50] Val Loss: 0.8436, Val Accuracy: 0.3000\n",
      "[Epoch 41/50] Train Loss: 0.6862, Train Accuracy: 0.6406\n",
      "[Epoch 41/50] Val Loss: 0.8476, Val Accuracy: 0.3000\n",
      "[Epoch 42/50] Train Loss: 0.6521, Train Accuracy: 0.5625\n",
      "[Epoch 42/50] Val Loss: 0.8520, Val Accuracy: 0.3000\n",
      "[Epoch 43/50] Train Loss: 0.6850, Train Accuracy: 0.4844\n",
      "[Epoch 43/50] Val Loss: 0.8501, Val Accuracy: 0.3000\n",
      "[Epoch 44/50] Train Loss: 0.6841, Train Accuracy: 0.4844\n",
      "[Epoch 44/50] Val Loss: 0.8551, Val Accuracy: 0.3000\n",
      "[Epoch 45/50] Train Loss: 0.7027, Train Accuracy: 0.4844\n",
      "[Epoch 45/50] Val Loss: 0.8550, Val Accuracy: 0.3000\n",
      "[Epoch 46/50] Train Loss: 0.7074, Train Accuracy: 0.5469\n",
      "[Epoch 46/50] Val Loss: 0.8530, Val Accuracy: 0.3000\n",
      "[Epoch 47/50] Train Loss: 0.7783, Train Accuracy: 0.3438\n",
      "[Epoch 47/50] Val Loss: 0.8549, Val Accuracy: 0.3000\n",
      "[Epoch 48/50] Train Loss: 0.7646, Train Accuracy: 0.4219\n",
      "[Epoch 48/50] Val Loss: 0.8552, Val Accuracy: 0.3000\n",
      "[Epoch 49/50] Train Loss: 0.7014, Train Accuracy: 0.5781\n",
      "[Epoch 49/50] Val Loss: 0.8564, Val Accuracy: 0.3000\n",
      "[Epoch 50/50] Train Loss: 0.6981, Train Accuracy: 0.4844\n",
      "[Epoch 50/50] Val Loss: 0.8547, Val Accuracy: 0.3000\n"
     ]
    }
   ],
   "source": [
    "data_for_binn = data_matrix.drop('Protein', axis=1).T\n",
    "data_for_binn['Protein'] = data_for_binn.index\n",
    "\n",
    "# Then run your training code\n",
    "binn_dataloader = BINNDataLoader(binn)\n",
    "dataloaders = binn_dataloader.create_dataloaders(\n",
    "    data_matrix=data_for_binn,\n",
    "    design_matrix=design_matrix,\n",
    "    feature_column=\"Protein\",\n",
    "    group_column=\"group\",\n",
    "    sample_column=\"sample\",\n",
    "    batch_size=32,\n",
    "    validation_split=0.2,\n",
    ")\n",
    "\n",
    "trainer = BINNTrainer(binn)\n",
    "trainer.fit(dataloaders=dataloaders, num_epochs=50)"
   ]
  },
  {
   "cell_type": "code",
   "execution_count": null,
   "id": "c4617093-a98e-4cee-a82e-07b3b1cd6f69",
   "metadata": {},
   "outputs": [],
   "source": []
  }
 ],
 "metadata": {
  "kernelspec": {
   "display_name": "Python [conda env:base] *",
   "language": "python",
   "name": "conda-base-py"
  },
  "language_info": {
   "codemirror_mode": {
    "name": "ipython",
    "version": 3
   },
   "file_extension": ".py",
   "mimetype": "text/x-python",
   "name": "python",
   "nbconvert_exporter": "python",
   "pygments_lexer": "ipython3",
   "version": "3.12.7"
  }
 },
 "nbformat": 4,
 "nbformat_minor": 5
}
